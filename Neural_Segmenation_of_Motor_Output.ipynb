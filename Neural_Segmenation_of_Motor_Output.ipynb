{
  "nbformat": 4,
  "nbformat_minor": 0,
  "metadata": {
    "colab": {
      "name": "Neural_Segmenation_of_Motor_Output.ipynb",
      "provenance": [],
      "authorship_tag": "ABX9TyMTritpgpfDOlCb2zhhnumE",
      "include_colab_link": true
    },
    "kernelspec": {
      "name": "python3",
      "display_name": "Python 3"
    },
    "language_info": {
      "name": "python"
    }
  },
  "cells": [
    {
      "cell_type": "markdown",
      "metadata": {
        "id": "view-in-github",
        "colab_type": "text"
      },
      "source": [
        "<a href=\"https://colab.research.google.com/github/dudyu/neural_segmenation_tutorial/blob/main/Neural_Segmenation_of_Motor_Output.ipynb\" target=\"_parent\"><img src=\"https://colab.research.google.com/assets/colab-badge.svg\" alt=\"Open In Colab\"/></a>"
      ]
    },
    {
      "cell_type": "markdown",
      "source": [
        "# Neural Segmenation of Motor Output\n",
        "\n",
        "## 1. Overview\n",
        "A prominent idea in motor neuroscience is that of motor primitives. Namely, that complex movements are composed from a set of simple atomic elements. The  kinematic (or dynamic) nature of these hypothesized elements, is, however, unknown. Nonetheless, if such elements originate in the CNS, we expect they will correspond to a temporal structure in the neural dynamics of the motor areas. Therefore, a possible approach to decompose movement to its primitives, is by segmenting the motor-neural activity in an unsupervised manner, and analysing how the resulting segments correspond to different movement features.\n",
        "Here we demonstrate this approach, roughly following the methodology presented in [https://www.ncbi.nlm.nih.gov/pmc/articles/PMC7302741/pdf/bhy060.pdf], using a dataset from Neural Latents Benchmark [https://neurallatents.github.io/datasets#mcrtt].\n",
        "\n",
        "## 2. Data\n",
        "We will be using the Random Target Task (RTT) dataset, provided by Joseph O'Doherty and Philip Sabes from UCSF. The data consists of Utah array recordings from M1 + end-effector position and velocity, of Macaque performing reaches between random targets on a plane (see https://zenodo.org/record/3854034). \n",
        "\n",
        "## 3. Method Guideline\n",
        "The first step in our analysis is to obtain an unsupervised segmentation based on the neural dynamics. To this end, we fit a Hidden Markov Model (HMM) to the spike rate data. Due to limitations of the python package, we use a Gaussian emissions model, but generally a Poisson (or tabular) model is more suitable for this kind of data. After the HMM is fitted, we use it to decode the neural data, and recover the most probable sequence of hidden states that gave rise to it. A *segment* is then defined as starting/ending whenever a change of state occurs.\n",
        "In the second step, the segments are projected on the kinematic data, to test their correspondence with different kinematic features.\n"
      ],
      "metadata": {
        "id": "HWiiPByWLbs6"
      }
    },
    {
      "cell_type": "code",
      "source": [
        "## Packages and Data\n",
        "\n",
        "!pip install git+https://github.com/neurallatents/nlb_tools.git\n",
        "!pip install hmmlearn\n",
        "!pip install dandi\n",
        "!dandi download https://gui.dandiarchive.org/#/dandiset/000129\n"
      ],
      "metadata": {
        "id": "QjYoOqTvXfeD"
      },
      "execution_count": null,
      "outputs": []
    },
    {
      "cell_type": "code",
      "execution_count": 47,
      "metadata": {
        "id": "VjpfQnt4EUon"
      },
      "outputs": [],
      "source": [
        "## Imports\n",
        "\n",
        "from nlb_tools.nwb_interface import NWBDataset\n",
        "import numpy as np\n",
        "import matplotlib.pyplot as plt\n",
        "from matplotlib import cm\n",
        "from mpl_toolkits.mplot3d import Axes3D\n",
        "from hmmlearn import hmm\n",
        "from scipy.ndimage import gaussian_filter1d\n",
        "\n",
        "plt.rcParams[\"figure.figsize\"] = (14, 7)\n",
        "plt.rcParams['xtick.labelsize'] = 6\n",
        "plt.rcParams['ytick.labelsize'] = 6"
      ]
    },
    {
      "cell_type": "code",
      "source": [
        "## Params\n",
        "\n",
        "BIN_SIZE_MS = 10            # data bin size\n",
        "SPIKE_SMOOTH_MS = 50        # smooth size for spikes \n",
        "LAG_MS = 100                # lag between neural activity and motor output\n",
        "NUM_HMM_STATES = 5          # number of states for HMM\n",
        "MAX_DATA_DURATION_SEC = 60  # take subset of the data, for quicker analysis\n",
        "\n",
        "## Helper functions\n",
        "\n",
        "cmap = cm.get_cmap('tab20')\n",
        "\n",
        "def project_states_on_kinematics(x, states):\n",
        "    \"\"\" Project HMM states on kinematic feature \n",
        "      x - np array. either 2d data, or sequence of scalars\n",
        "    \"\"\"\n",
        "    assert x.ndim in (1, 2)\n",
        "    is_sequence = x.ndim == 1\n",
        "    if is_sequence:\n",
        "      x = np.stack([range(len(x)), x], axis=1)\n",
        "    transitions = [0] + list(1 + np.nonzero(states[:-1] != states[1:])[0]) + [len(states)]\n",
        "    plt.figure()\n",
        "    for i in range(len(transitions) - 1):\n",
        "        ix_from, ix_to = transitions[i], transitions[i + 1]\n",
        "        color = cmap(states[ix_from] / NUM_HMM_STATES)\n",
        "        plt.plot(x[ix_from: ix_to, 0], x[ix_from: ix_to, 1], color=color)\n",
        "    if not is_sequence:\n",
        "      plt.axis('equal')\n",
        "\n",
        "def statewise_angular_hist(x, states, hist_bins=10):\n",
        "    \"\"\" Histogram per state, for angular data \"\"\"\n",
        "    nrows = int(np.sqrt(NUM_HMM_STATES))\n",
        "    ncols = int(np.ceil(NUM_HMM_STATES / nrows))\n",
        "    theta = np.arange(0.0, 2 * np.pi, 2 * np.pi / hist_bins)\n",
        "    width = (2*np.pi) / hist_bins\n",
        "    _, axs = plt.subplots(nrows, ncols, subplot_kw=dict(projection='polar'))\n",
        "    for state in range(NUM_HMM_STATES):\n",
        "        radii, _ = np.histogram(x[states == state], bins=theta)\n",
        "        plt.sca(axs[np.unravel_index(state, [nrows, ncols])])\n",
        "        color = cmap(state / NUM_HMM_STATES)\n",
        "        plt.bar(theta[:-1], radii, bottom=0.0, width=width, color=color)\n",
        "        plt.gca().set_rticks([])\n",
        "        plt.title(f'State {state}')\n",
        "\n",
        "\n",
        "def statewise_hist(x, states, hist_bins=10):\n",
        "    \"\"\" Histogram per state \"\"\"\n",
        "    nrows = int(np.sqrt(NUM_HMM_STATES))\n",
        "    ncols = int(np.ceil(NUM_HMM_STATES / nrows))\n",
        "    _, axs = plt.subplots(nrows, ncols)\n",
        "    edges = np.linspace(x.min(), x.max(), hist_bins + 1)\n",
        "    for state in range(NUM_HMM_STATES):\n",
        "        plt.sca(axs[np.unravel_index(state, [nrows, ncols])])\n",
        "        color = cmap(state / NUM_HMM_STATES)\n",
        "        plt.hist(x[states == state], edges, color=color)\n",
        "        plt.title(f'State {state}')\n"
      ],
      "metadata": {
        "id": "ZTn23VgcFfUV"
      },
      "execution_count": 40,
      "outputs": []
    },
    {
      "cell_type": "code",
      "source": [
        "## Load and preprocess\n",
        "\n",
        "# Load + resample to wanted bin size\n",
        "dataset = NWBDataset(\"./000129/sub-Indy\", \"*train\", split_heldout=False)\n",
        "dataset.resample(BIN_SIZE_MS)\n",
        "\n",
        "# Take subset (for performance)\n",
        "data = dataset.data[:int(MAX_DATA_DURATION_SEC * 1000 / dataset.bin_width)]\n",
        "\n",
        "# Spike rates + (lagged) kinematics:\n",
        "lag_bins = int(LAG_MS / dataset.bin_width)\n",
        "rates = data.spikes[:-lag_bins].to_numpy()\n",
        "pos = data.finger_pos[lag_bins:].to_numpy()\n",
        "\n",
        "valid_ixs = ~np.logical_or(np.any(np.isnan(rates), axis=1), np.any(np.isnan(pos), axis=1))\n",
        "rates = rates[valid_ixs]\n",
        "pos = pos[valid_ixs]\n",
        "vel = data.finger_vel[lag_bins:].to_numpy()[valid_ixs]"
      ],
      "metadata": {
        "id": "nnQo3VQ2EhWK"
      },
      "execution_count": 12,
      "outputs": []
    },
    {
      "cell_type": "code",
      "source": [
        "# compute kinematic features\n",
        "speed = np.linalg.norm(vel, axis=1)\n",
        "direction = np.mod(np.arctan2(vel[:, 1], vel[:, 0]), 2 * np.pi)\n",
        "\n",
        "pos -= pos.mean(axis=0)\n",
        "pos_r = np.linalg.norm(pos, axis=1)\n",
        "pos_theta = np.mod(np.arctan2(pos[:, 1], pos[:, 0]), 2 * np.pi)\n",
        "\n",
        "signed_acc = np.concatenate([[0], np.diff(speed)]) / dataset.bin_width"
      ],
      "metadata": {
        "id": "czj0nAeOEqr8"
      },
      "execution_count": 13,
      "outputs": []
    },
    {
      "cell_type": "code",
      "source": [
        "# smooth spikes\n",
        "smooth_sigma_bins = .5 * SPIKE_SMOOTH_MS / dataset.bin_width\n",
        "rates = gaussian_filter1d(rates.astype('float32'), sigma=smooth_sigma_bins, axis=0)"
      ],
      "metadata": {
        "id": "dMNVwRWbEsw8"
      },
      "execution_count": 14,
      "outputs": []
    },
    {
      "cell_type": "code",
      "source": [
        "## HMM\n",
        "\n",
        "# Train HMM on neural data\n",
        "model = hmm.GaussianHMM(NUM_HMM_STATES, \"full\")\n",
        "model.fit(rates)\n",
        "\n",
        "# Get HMM states\n",
        "states = model.predict(rates)"
      ],
      "metadata": {
        "id": "zdXuo6cBEtzL"
      },
      "execution_count": 15,
      "outputs": []
    },
    {
      "cell_type": "code",
      "source": [
        "## Display results\n",
        "\n",
        "project_states_on_kinematics(pos, states)\n",
        "plt.suptitle('Trajectory')\n",
        "\n",
        "project_states_on_kinematics(speed, states)\n",
        "plt.suptitle('Speed')\n",
        "\n",
        "statewise_hist(signed_acc, states)\n",
        "plt.suptitle('Acceleration')\n",
        "\n",
        "statewise_hist(speed, states)\n",
        "plt.suptitle('Speed')\n",
        "\n",
        "statewise_hist(pos_r, states)\n",
        "plt.suptitle('Radial Position')\n",
        "\n",
        "statewise_angular_hist(direction, states)\n",
        "plt.suptitle('Velocity Direction')\n",
        "\n",
        "statewise_angular_hist(pos_theta, states)\n",
        "plt.suptitle('Angular Position')\n"
      ],
      "metadata": {
        "id": "zAwLQi4cFpw9"
      },
      "execution_count": null,
      "outputs": []
    }
  ]
}